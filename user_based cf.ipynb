{
 "cells": [
  {
   "cell_type": "code",
   "execution_count": 1,
   "id": "bc00781f",
   "metadata": {},
   "outputs": [],
   "source": [
    "# import libraries\n",
    "import pandas as pd\n",
    "import numpy as np\n",
    "from surprise import Dataset,Reader,KNNBasic\n",
    "from surprise.model_selection import train_test_split\n",
    "from surprise import accuracy"
   ]
  },
  {
   "cell_type": "code",
   "execution_count": 2,
   "id": "1cfe98e9",
   "metadata": {},
   "outputs": [],
   "source": [
    "ratings = pd.read_csv('ml-100k/u.data',sep='\\t', names=['user_id','item_id','ratings','timestamp']) # load dataset"
   ]
  },
  {
   "cell_type": "code",
   "execution_count": 3,
   "id": "3527b8e6",
   "metadata": {},
   "outputs": [],
   "source": [
    "ratings = ratings[['user_id','item_id','ratings']] # the columns we need to run our program"
   ]
  },
  {
   "cell_type": "code",
   "execution_count": 4,
   "id": "d71c2ee3",
   "metadata": {},
   "outputs": [],
   "source": [
    "reader = Reader(rating_scale=(1,5))"
   ]
  },
  {
   "cell_type": "code",
   "execution_count": 5,
   "id": "bb60aaf6",
   "metadata": {},
   "outputs": [],
   "source": [
    "# prepare dataset for surprise to use\n",
    "data = Dataset.load_from_df(ratings[['user_id','item_id','ratings']],reader)"
   ]
  },
  {
   "cell_type": "code",
   "execution_count": 6,
   "id": "c76a3bac",
   "metadata": {},
   "outputs": [],
   "source": [
    "# split the dataset into a trainset and test set surprise object\n",
    "trainset,testset = train_test_split(data, test_size=0.2, random_state= 42)"
   ]
  },
  {
   "cell_type": "code",
   "execution_count": 7,
   "id": "b2c4dff5",
   "metadata": {},
   "outputs": [],
   "source": [
    "# define user-user collaborative filtering\n",
    "similarity_options = {\n",
    "    \"cosine\" : {\n",
    "    'name' : 'cosine', # similarity metrics : [cosine]\n",
    "    'user_based' : True # True = user-user CF, false = item-item CF\n",
    "    },\n",
    "    \"pearson\" : {\n",
    "        'name' : 'pearson', # similarity metrics : [precision]\n",
    "        'user_based' : True\n",
    "    }\n",
    "}"
   ]
  },
  {
   "cell_type": "code",
   "execution_count": 8,
   "id": "1e965cbe",
   "metadata": {},
   "outputs": [
    {
     "name": "stdout",
     "output_type": "stream",
     "text": [
      "Computing the cosine similarity matrix...\n",
      "Done computing similarity matrix.\n",
      "RMSE: 1.0194\n",
      "--------------------------------------------------\n",
      "Computing the pearson similarity matrix...\n",
      "Done computing similarity matrix.\n",
      "RMSE: 1.0150\n",
      "--------------------------------------------------\n",
      "cosine - 1.0193536815834319\n",
      "pearson - 1.0150350905205965\n"
     ]
    }
   ],
   "source": [
    "results = {}\n",
    "for metric_name, metrics in similarity_options.items():\n",
    "    algorithms = KNNBasic(sim_options = metrics)\n",
    "\n",
    "    algorithms.fit(trainset)\n",
    "\n",
    "    predictions = algorithms.test(testset)\n",
    "\n",
    "    rmse = accuracy.rmse(predictions)\n",
    "\n",
    "    results[metric_name] = rmse\n",
    "    print('-'*50)\n",
    "\n",
    "for name,rmse in results.items():\n",
    "    print(f'{name} - {rmse}')"
   ]
  }
 ],
 "metadata": {
  "kernelspec": {
   "display_name": "recommender-systems-pOdFiLMx-py3.11",
   "language": "python",
   "name": "python3"
  },
  "language_info": {
   "codemirror_mode": {
    "name": "ipython",
    "version": 3
   },
   "file_extension": ".py",
   "mimetype": "text/x-python",
   "name": "python",
   "nbconvert_exporter": "python",
   "pygments_lexer": "ipython3",
   "version": "3.11.9"
  }
 },
 "nbformat": 4,
 "nbformat_minor": 5
}
