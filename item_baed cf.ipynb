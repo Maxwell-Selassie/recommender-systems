{
 "cells": [
  {
   "cell_type": "code",
   "execution_count": null,
   "id": "e07cdde5",
   "metadata": {},
   "outputs": [],
   "source": [
    "# import libraries \n",
    "import pandas as pd\n",
    "from surprise import Dataset,Reader,KNNBasic\n",
    "from surprise.model_selection import train_test_split\n",
    "from surprise import accuracy\n",
    "\n",
    "data = pd.read_csv('ml-100k/u.data',sep='\\t',names=['user_id','item_id','ratings','timestamp'])\n",
    "\n",
    "# ratings = data[['user_id','item_id','ratings']]\n",
    "reader = Reader(rating_scale=(1,5))\n",
    "\n",
    "data = Dataset.load_from_df(data[['user_id','item_id','ratings']],reader)\n",
    "\n",
    "trainset, testset = train_test_split(data, test_size=0.2, random_state=42)"
   ]
  },
  {
   "cell_type": "code",
   "execution_count": 7,
   "id": "565cf242",
   "metadata": {},
   "outputs": [],
   "source": [
    "similarity_options = {\n",
    "    'cosine' : {\n",
    "        'name' : 'cosine',\n",
    "        'user_based' : False\n",
    "    },\n",
    "    'pearson' : {\n",
    "        'name' : 'pearson',\n",
    "        'user_based' : False\n",
    "    },\n",
    "    'pearson_baseline' : {\n",
    "        'name' : 'pearson_baseline',\n",
    "        'user_based' : False\n",
    "    },\n",
    "    'mean_squared_diff' : {\n",
    "        'name' : 'msd',\n",
    "        'user_based' : False\n",
    "    }\n",
    "}"
   ]
  },
  {
   "cell_type": "code",
   "execution_count": 8,
   "id": "9710ed10",
   "metadata": {},
   "outputs": [
    {
     "name": "stdout",
     "output_type": "stream",
     "text": [
      "Computing the cosine similarity matrix...\n",
      "Done computing similarity matrix.\n",
      "RMSE: 1.0264\n",
      "--------------------------------------------------\n",
      "Computing the pearson similarity matrix...\n",
      "Done computing similarity matrix.\n",
      "RMSE: 1.0411\n",
      "--------------------------------------------------\n",
      "Estimating biases using als...\n",
      "Computing the pearson_baseline similarity matrix...\n",
      "Done computing similarity matrix.\n",
      "RMSE: 0.9956\n",
      "--------------------------------------------------\n",
      "Computing the msd similarity matrix...\n",
      "Done computing similarity matrix.\n",
      "RMSE: 0.9726\n",
      "--------------------------------------------------\n"
     ]
    }
   ],
   "source": [
    "for name, metrics in similarity_options.items():\n",
    "    algorithm = KNNBasic(sim_options=metrics)\n",
    "\n",
    "    algorithm.fit(trainset)\n",
    "\n",
    "    predictions = algorithm.test(testset)\n",
    "\n",
    "    rmse = accuracy.rmse(predictions)\n",
    "    print('-'*50)"
   ]
  }
 ],
 "metadata": {
  "kernelspec": {
   "display_name": "recommender-systems-pOdFiLMx-py3.11",
   "language": "python",
   "name": "python3"
  },
  "language_info": {
   "codemirror_mode": {
    "name": "ipython",
    "version": 3
   },
   "file_extension": ".py",
   "mimetype": "text/x-python",
   "name": "python",
   "nbconvert_exporter": "python",
   "pygments_lexer": "ipython3",
   "version": "3.11.9"
  }
 },
 "nbformat": 4,
 "nbformat_minor": 5
}
